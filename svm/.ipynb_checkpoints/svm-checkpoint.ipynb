{
 "cells": [
  {
   "cell_type": "code",
   "execution_count": 15,
   "metadata": {},
   "outputs": [],
   "source": [
    "import numpy as np\n",
    "import os\n",
    "import pcl\n",
    "import rospy\n",
    "\n",
    "from open3d import *\n",
    "from sensor_msgs import point_cloud2 as pc2\n",
    "from sensor_msgs.msg import Image, PointCloud2\n",
    "from __future__ import print_function"
   ]
  },
  {
   "cell_type": "markdown",
   "metadata": {},
   "source": [
    "## load data from bags"
   ]
  },
  {
   "cell_type": "code",
   "execution_count": 16,
   "metadata": {},
   "outputs": [],
   "source": [
    "def bagfile_to_pcl(path, topic='head_camera/depth/points', frame_limit=1):\n",
    "    bag, points = rosbag.Bag(path), np.zeros(shape=(1,))\n",
    "    for i, (_, msg, t) in enumerate(bag.read_messages(topics=[topic])):\n",
    "        if i>frame_limit:\n",
    "            break\n",
    "        print(msg) # TODO finish this\n",
    "    bag.close()\n",
    "    \n",
    "    return pcl.PointCloud(np.array(points, dtype=np.float32))"
   ]
  },
  {
   "cell_type": "code",
   "execution_count": 17,
   "metadata": {},
   "outputs": [],
   "source": [
    "#targets = ['bolts-on-table', 'single-bolt', 'bolts-in-bin']\n",
    "targets = ['1556416031.657706491.pcd']\n",
    "datasets = []\n",
    "\n",
    "if not all([target in os.listdir('../data/pcd') for target in targets]):\n",
    "    raise Exception('Missing data.')"
   ]
  },
  {
   "cell_type": "markdown",
   "metadata": {},
   "source": [
    "### pcd analysis\n",
    "Voxellize down to $0.5 cm^3$"
   ]
  },
  {
   "cell_type": "code",
   "execution_count": 64,
   "metadata": {},
   "outputs": [],
   "source": [
    "import ipyvolume as ipv\n",
    "\n",
    "def view(X):\n",
    "    if type(X)!='numpy.ndarray':\n",
    "        N = np.asarray(X).T\n",
    "    return ipv.quickscatter(N[0,], N[1,], N[2,], size=1, marker='point_2d')"
   ]
  },
  {
   "cell_type": "code",
   "execution_count": 90,
   "metadata": {},
   "outputs": [],
   "source": [
    "def transform(X, rads=0, axis='z'):\n",
    "    R = np.matrix([[1, 0, 0], [0, np.cos(rads), np.sin(rads)], [0, -np.sin(rads), np.cos(rads)]])\n",
    "    return np.asarray(X).dot(R)"
   ]
  },
  {
   "cell_type": "code",
   "execution_count": 96,
   "metadata": {},
   "outputs": [],
   "source": [
    "X = pcl.load('../data/pcd/' + targets[0])"
   ]
  },
  {
   "cell_type": "code",
   "execution_count": 97,
   "metadata": {},
   "outputs": [
    {
     "data": {
      "application/vnd.jupyter.widget-view+json": {
       "model_id": "509f389d072449788385195580d80522",
       "version_major": 2,
       "version_minor": 0
      },
      "text/plain": [
       "VkJveChjaGlsZHJlbj0oRmlndXJlKGNhbWVyYT1QZXJzcGVjdGl2ZUNhbWVyYShmb3Y9NDYuMCwgcG9zaXRpb249KDAuMCwgMC4wLCAyLjApLCBxdWF0ZXJuaW9uPSgwLjAsIDAuMCwgMC4wLCDigKY=\n"
      ]
     },
     "metadata": {},
     "output_type": "display_data"
    }
   ],
   "source": [
    "view(X)"
   ]
  },
  {
   "cell_type": "code",
   "execution_count": 114,
   "metadata": {},
   "outputs": [
    {
     "data": {
      "application/vnd.jupyter.widget-view+json": {
       "model_id": "7139cfe017c648feb3d8ab7a188deeeb",
       "version_major": 2,
       "version_minor": 0
      },
      "text/plain": [
       "VkJveChjaGlsZHJlbj0oRmlndXJlKGNhbWVyYT1QZXJzcGVjdGl2ZUNhbWVyYShmb3Y9NDYuMCwgcG9zaXRpb249KDAuMCwgMC4wLCAyLjApLCBxdWF0ZXJuaW9uPSgwLjAsIDAuMCwgMC4wLCDigKY=\n"
      ]
     },
     "metadata": {},
     "output_type": "display_data"
    }
   ],
   "source": [
    "view(-transform(X, rads=np.radians(-52)))"
   ]
  },
  {
   "cell_type": "code",
   "execution_count": null,
   "metadata": {},
   "outputs": [],
   "source": [
    "X = X.make_passthrough_filter()\n",
    "X.set_filter_field_name('z')"
   ]
  },
  {
   "cell_type": "code",
   "execution_count": null,
   "metadata": {},
   "outputs": [],
   "source": []
  }
 ],
 "metadata": {
  "kernelspec": {
   "display_name": "Python 2",
   "language": "python",
   "name": "python2"
  },
  "language_info": {
   "codemirror_mode": {
    "name": "ipython",
    "version": 2
   },
   "file_extension": ".py",
   "mimetype": "text/x-python",
   "name": "python",
   "nbconvert_exporter": "python",
   "pygments_lexer": "ipython2",
   "version": "2.7.15rc1"
  }
 },
 "nbformat": 4,
 "nbformat_minor": 2
}
