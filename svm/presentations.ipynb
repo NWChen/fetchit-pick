{
 "cells": [
  {
   "cell_type": "markdown",
   "metadata": {},
   "source": [
    "### presentations"
   ]
  },
  {
   "cell_type": "code",
   "execution_count": 152,
   "metadata": {},
   "outputs": [],
   "source": [
    "teams = \"Matthew Chan, Jiaheng Hu'\\\n",
    "Abhi Gupta'\\\n",
    "Rachel Wu'\\\n",
    "Cindy Le'\\\n",
    "Jerry Zhang, Wenhao Li, Zhengyang Du'\\\n",
    "Megan Fillion'\\\n",
    "Abhinandan Srinivasan, Hrisheekesh Patil, Abhijeet Mishra'\\\n",
    "Lingyu An, Christian Toledo'\\\n",
    "James Gong, Irene Chen'\\\n",
    "Apurva Ramdham, Khawla Alhamdan, Steven Mazzola'\\\n",
    "Kaylah Kennedy'\\\n",
    "Lucas Schuermann'\\\n",
    "Mehmet Sonmez, Vaibhav Darbari'\\\n",
    "Tong Wu, Shivani Ghatge, Lian-Feng Li'\\\n",
    "Yuchen Mo, Bingqing Wei, Qiang Ma'\\\n",
    "Quinn Torres'\\\n",
    "Vivek Kumar, Varun Chanddra'\\\n",
    "Shilin Ni, Alex Nicita, Xipeng Xie\""
   ]
  },
  {
   "cell_type": "code",
   "execution_count": 153,
   "metadata": {},
   "outputs": [],
   "source": [
    "names = teams.split('\\'')\n",
    "names = [name.split(', ') for name in names]\n",
    "with open('/home/neil/Desktop/spring19/humanoid/attendance.csv', 'r') as f:\n",
    "    unis = f.readlines()[3:]\n",
    "unis_ls = [uni.replace('\\r\\n', '').split(',')[:-1] for uni in unis]\n",
    "unis = {}\n",
    "for uni in unis_ls:\n",
    "    unis[uni[0]] = uni[1]"
   ]
  },
  {
   "cell_type": "code",
   "execution_count": 154,
   "metadata": {},
   "outputs": [],
   "source": [
    "br = 'a'"
   ]
  },
  {
   "cell_type": "code",
   "execution_count": 155,
   "metadata": {},
   "outputs": [],
   "source": [
    "template =\\\n",
    "'''\n",
    "# Team %d\\n\n",
    "%s\\n\n",
    "\n",
    "-----\n",
    "\n",
    "_Project_:\n",
    "\n",
    "### Presentation\n",
    "\n",
    "```\n",
    "-\n",
    "\n",
    "-\n",
    "\n",
    "-\n",
    "\n",
    "-\n",
    "\n",
    "-\n",
    "\n",
    "-\n",
    "\n",
    "-\n",
    "\n",
    "-\n",
    "\n",
    "\n",
    "```\n",
    "\n",
    "### Demo\n",
    "\n",
    "```\n",
    "-\n",
    "\n",
    "-\n",
    "\n",
    "-\n",
    "\n",
    "-\n",
    "\n",
    "-\n",
    "\n",
    "-\n",
    "\n",
    "-\n",
    "\n",
    "-\n",
    "```\n",
    "\n",
    "\n",
    "'''"
   ]
  },
  {
   "cell_type": "markdown",
   "metadata": {},
   "source": [
    "### generate templates"
   ]
  },
  {
   "cell_type": "code",
   "execution_count": 156,
   "metadata": {},
   "outputs": [],
   "source": [
    "import os\n",
    "import subprocess"
   ]
  },
  {
   "cell_type": "code",
   "execution_count": 157,
   "metadata": {},
   "outputs": [],
   "source": [
    "templates = []\n",
    "for i, name_set in enumerate(names):\n",
    "    names_and_unis = []\n",
    "    for name in name_set:\n",
    "        names_and_unis.append('%s (%s)' % (name, unis[name]))\n",
    "        \n",
    "    names_and_unis = ', '.join(names_and_unis)\n",
    "    templates.append(template % (i+1, names_and_unis))"
   ]
  },
  {
   "cell_type": "code",
   "execution_count": 158,
   "metadata": {},
   "outputs": [],
   "source": [
    "for i, template in enumerate(templates):\n",
    "    with open('%d.md' % i, 'w') as f:\n",
    "        f.write(template)\n",
    "    subprocess.call('pandoc %d.md -o Team_%d.pdf'.split(' '))"
   ]
  }
 ],
 "metadata": {
  "kernelspec": {
   "display_name": "Python 2",
   "language": "python",
   "name": "python2"
  },
  "language_info": {
   "codemirror_mode": {
    "name": "ipython",
    "version": 2
   },
   "file_extension": ".py",
   "mimetype": "text/x-python",
   "name": "python",
   "nbconvert_exporter": "python",
   "pygments_lexer": "ipython2",
   "version": "2.7.15rc1"
  }
 },
 "nbformat": 4,
 "nbformat_minor": 2
}
